{
 "cells": [
  {
   "cell_type": "code",
   "execution_count": 1,
   "id": "99acc902-9249-4def-ad13-42c2f4b10069",
   "metadata": {},
   "outputs": [
    {
     "data": {
      "text/plain": [
       "array([ True])"
      ]
     },
     "execution_count": 1,
     "metadata": {},
     "output_type": "execute_result"
    }
   ],
   "source": [
    "#Deployment Phase (The best model for the given dataset is Decision Tree)\n",
    "import pickle\n",
    "loaded_model=pickle.load(open(\"finalized_model_RFCA2.sav\",'rb'))\n",
    "result=loaded_model.predict([[15,80,0,0,93,17,0.9,136,3.9,16.7,50,6200,5.2,1,0,0,0,1,1,0,0,0,0,0,1,0,0]])\n",
    "result"
   ]
  },
  {
   "cell_type": "code",
   "execution_count": null,
   "id": "3d23ae7e-156c-43d0-bdf5-dc83f392ea2f",
   "metadata": {},
   "outputs": [],
   "source": []
  }
 ],
 "metadata": {
  "kernelspec": {
   "display_name": "Python [conda env:base] *",
   "language": "python",
   "name": "conda-base-py"
  },
  "language_info": {
   "codemirror_mode": {
    "name": "ipython",
    "version": 3
   },
   "file_extension": ".py",
   "mimetype": "text/x-python",
   "name": "python",
   "nbconvert_exporter": "python",
   "pygments_lexer": "ipython3",
   "version": "3.12.7"
  }
 },
 "nbformat": 4,
 "nbformat_minor": 5
}
